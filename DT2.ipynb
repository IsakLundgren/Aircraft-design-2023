{
 "cells": [
  {
   "cell_type": "code",
   "execution_count": 7,
   "metadata": {},
   "outputs": [
    {
     "name": "stdout",
     "output_type": "stream",
     "text": [
      "Span =  33.51417610504546\n",
      "Half wing span = 16.75708805252273\n",
      "Root chord =  3.989782869648269 \n",
      "Tip chord =  1.5959131478593076\n",
      "Mean aerodynamic Chord = 2.9608748644641185\n",
      "Location of Mean aerodynamic Chord = 7.1816091653668845\n"
     ]
    },
    {
     "name": "stderr",
     "output_type": "stream",
     "text": [
      "c:\\Users\\Jay\\AppData\\Local\\Programs\\PythonCodingPack\\lib\\site-packages\\numpy\\core\\_asarray.py:136: VisibleDeprecationWarning: Creating an ndarray from ragged nested sequences (which is a list-or-tuple of lists-or-tuples-or ndarrays with different lengths or shapes) is deprecated. If you meant to do this, you must specify 'dtype=object' when creating the ndarray\n",
      "  return array(a, dtype, copy=False, order=order, subok=True)\n"
     ]
    }
   ],
   "source": [
    "import numpy as np\n",
    "import matplotlib.pyplot as py\n",
    "from scipy.optimize import fsolve\n",
    "\n",
    "wing_area = 93.6        #From wing loading eqns\n",
    "AR = 12                 #Initial study and based on ATR72\n",
    "taper_ratio = 0.4       #Raymer - For most unswept wings\n",
    "Dihedral_angle = 2      #General value to assume and begin with design\n",
    "t_c = 0.15              #Thickness to chord ratio, From historical plots\n",
    "c_HT = 0.9              #Constant, Raymer 160\n",
    "c_VT = 0.08              #Constant, Raymer 160\n",
    "dist_to_VT = \n",
    "dist_to_HT = \n",
    "\n",
    "## Aileron sizing - 50-90% of wingspan\n",
    "##                - 20% of wing chord\n",
    "## Rudders & Elevators - 0-90% of wingspan\n",
    "##                     - 36% elevtor chord length, 46% rudder chord length\n",
    "\n",
    "### Solving for Wing span\n",
    "def eqn1(span):\n",
    "    return AR - (span**2) / wing_area\n",
    "span = fsolve(eqn1, 1)\n",
    "print('Span = ', span[0])\n",
    "print('Half wing span =', span[0]/2)\n",
    "\n",
    "def eqn2(p):\n",
    "    root_chord, tip_chord = p\n",
    "    return (0.4*root_chord - tip_chord, \\\n",
    "            (2*wing_area/span) - root_chord - tip_chord)\n",
    "root_chord, tip_chord =  fsolve(eqn2, (1, 1))\n",
    "print('Root chord = ', root_chord, '\\nTip chord = ', tip_chord)\n",
    "\n",
    "mean_chord = 0.666 * root_chord * ((1 + taper_ratio + taper_ratio**2)/(1 + taper_ratio))\n",
    "print('Mean aerodynamic Chord =', mean_chord)\n",
    "\n",
    "loc_mean_chord = (span/6) * ((1+2*taper_ratio)/(1+taper_ratio))\n",
    "print('Location of Mean Aerodynamic Chord =', loc_mean_chord[0])\n",
    "\n",
    "### Vertical tail\n",
    "VT_area = c_VT * span * wing_area / Dist_to_VT\n",
    "\n",
    "### Horizontal tail\n",
    "HT_area = c_HT * mean_chord * wing_area / Dist_to_HT\n",
    "\n"
   ]
  }
 ],
 "metadata": {
  "kernelspec": {
   "display_name": "Python 3",
   "language": "python",
   "name": "python3"
  },
  "language_info": {
   "codemirror_mode": {
    "name": "ipython",
    "version": 3
   },
   "file_extension": ".py",
   "mimetype": "text/x-python",
   "name": "python",
   "nbconvert_exporter": "python",
   "pygments_lexer": "ipython3",
   "version": "3.8.5"
  },
  "orig_nbformat": 4
 },
 "nbformat": 4,
 "nbformat_minor": 2
}
